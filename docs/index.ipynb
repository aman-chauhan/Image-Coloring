{
 "cells": [
  {
   "cell_type": "markdown",
   "metadata": {
    "slideshow": {
     "slide_type": "slide"
    }
   },
   "source": [
    "# Image-Coloring\n",
    "\n",
    "---\n",
    "\n",
    "***Deep Neural Net for coloring grayscale images using local and global image features***\n",
    "\n",
    "| Grayscale | Predicted Colors | Colored Image |\n",
    "| :---: | :---: | :---: |\n",
    "| ![grayscale](grayscale/pagoda.jpg) | ![prediction](map/all/pagoda.jpg) | ![color](color/all/pagoda.jpg) |\n",
    "| ![grayscale](grayscale/mountain.jpg) | ![prediction](map/all/mountain.jpg) | ![color](color/all/mountain.jpg) |"
   ]
  }
 ],
 "metadata": {
  "celltoolbar": "Slideshow",
  "kernelspec": {
   "display_name": "Python 3",
   "language": "python",
   "name": "python3"
  },
  "language_info": {
   "codemirror_mode": {
    "name": "ipython",
    "version": 3
   },
   "file_extension": ".py",
   "mimetype": "text/x-python",
   "name": "python",
   "nbconvert_exporter": "python",
   "pygments_lexer": "ipython3",
   "version": "3.6.8"
  }
 },
 "nbformat": 4,
 "nbformat_minor": 2
}
